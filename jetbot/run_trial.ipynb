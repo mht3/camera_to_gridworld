{
 "cells": [
  {
   "cell_type": "code",
   "execution_count": 1,
   "metadata": {},
   "outputs": [
    {
     "name": "stdout",
     "output_type": "stream",
     "text": [
      "Error loading module `ublox_gps`: No module named 'serial'\n"
     ]
    }
   ],
   "source": [
    "import traitlets\n",
    "import ipywidgets.widgets as widgets\n",
    "from IPython.display import display\n",
    "from jetbot import Camera, bgr8_to_jpeg\n",
    "from jetbot import Robot\n",
    "import os\n",
    "import time\n",
    "from uuid import uuid1\n"
   ]
  },
  {
   "cell_type": "markdown",
   "metadata": {},
   "source": [
    "## Initializing Camera View"
   ]
  },
  {
   "cell_type": "code",
   "execution_count": 2,
   "metadata": {},
   "outputs": [],
   "source": [
    "# camera = Camera.instance(width=256, height=256)\n",
    "\n",
    "# image = widgets.Image(format='jpeg', width=256, height=256)  # this width and height doesn't necessarily have to match the camera\n",
    "\n",
    "# camera_link = traitlets.dlink((camera, 'value'), (image, 'value'), transform=bgr8_to_jpeg)\n",
    "\n",
    "# display(image)"
   ]
  },
  {
   "cell_type": "code",
   "execution_count": 3,
   "metadata": {},
   "outputs": [
    {
     "name": "stdout",
     "output_type": "stream",
     "text": [
      "Directory not created becasue it already exists\n"
     ]
    }
   ],
   "source": [
    "directory = 'data'\n",
    "try:\n",
    "    os.makedirs(directory)\n",
    "except FileExistsError:\n",
    "    print('Directory not created becasue it already exists')\n"
   ]
  },
  {
   "cell_type": "markdown",
   "metadata": {},
   "source": [
    "## Create Button For Taking and Saving Images"
   ]
  },
  {
   "cell_type": "code",
   "execution_count": 4,
   "metadata": {},
   "outputs": [
    {
     "data": {
      "application/vnd.jupyter.widget-view+json": {
       "model_id": "e336bece83664d96ba322746539e6d78",
       "version_major": 2,
       "version_minor": 0
      },
      "text/plain": [
       "HBox(children=(IntText(value=164, layout=Layout(height='64px', width='128px')), Button(button_style='success',…"
      ]
     },
     "metadata": {},
     "output_type": "display_data"
    }
   ],
   "source": [
    "def save_image():\n",
    "    global directory, count\n",
    "    image_path = os.path.join(directory, str(uuid1()) + '.jpg')\n",
    "    with open(image_path, 'wb') as f:\n",
    "        f.write(image.value)\n",
    "        \n",
    "    count.value = len(os.listdir(directory))\n",
    "    \n",
    "\n",
    "button_layout = widgets.Layout(width='128px', height='64px')\n",
    "button = widgets.Button(description='Take Picture', button_style='success', layout=button_layout)\n",
    "count = widgets.IntText(layout=button_layout, value=len(os.listdir(directory)))\n",
    "\n",
    "display(widgets.HBox([count, button]))\n",
    "\n",
    "count = 0\n",
    "\n",
    "# attach the callbacks, we use a 'lambda' function to ignore the\n",
    "# parameter that the on_click event would provide to our function\n",
    "# because we don't need it.\n",
    "button.on_click(lambda x: save_image())\n"
   ]
  },
  {
   "cell_type": "code",
   "execution_count": 5,
   "metadata": {},
   "outputs": [],
   "source": [
    "robot = Robot()"
   ]
  },
  {
   "cell_type": "code",
   "execution_count": 6,
   "metadata": {},
   "outputs": [],
   "source": [
    "def stop(change):\n",
    "    robot.stop()\n",
    "    \n",
    "def forward(change):\n",
    "    robot.forward(0.4)\n",
    "\n",
    "def backward(change):\n",
    "    robot.backward(0.4)\n",
    "\n",
    "\n",
    "def left(change):\n",
    "    robot.right(0.3)\n",
    "\n",
    "\n",
    "def right(change):\n",
    "    robot.left(0.3)\n",
    "\n",
    "\n",
    "def save_image(label):\n",
    "    global directory\n",
    "    image_path = os.path.join(directory, label + \".jpg\")\n",
    "    count = 1\n",
    "    root, ext = os.path.splitext(image_path)\n",
    "    while os.path.exists(image_path):\n",
    "        count += 1\n",
    "        image_path = root + \"_\" + str(count) + ext\n",
    "\n",
    "    with open(image_path, 'wb') as f:\n",
    "        f.write(image.value)\n",
    "        "
   ]
  },
  {
   "cell_type": "markdown",
   "metadata": {},
   "source": [
    "# Create Controller"
   ]
  },
  {
   "cell_type": "code",
   "execution_count": 10,
   "metadata": {},
   "outputs": [
    {
     "data": {
      "application/vnd.jupyter.widget-view+json": {
       "model_id": "4cb510f9108944758f8926998486f0c2",
       "version_major": 2,
       "version_minor": 0
      },
      "text/plain": [
       "HBox(children=(Image(value=b'\\xff\\xd8\\xff\\xe0\\x00\\x10JFIF\\x00\\x01\\x01\\x00\\x00\\x01\\x00\\x01\\x00\\x00\\xff\\xdb\\x00C…"
      ]
     },
     "metadata": {},
     "output_type": "display_data"
    }
   ],
   "source": [
    "# create buttons\n",
    "button_layout = widgets.Layout(width='100px', height='80px', align_self='center')\n",
    "stop_button = widgets.Button(description='stop', button_style='danger', layout=button_layout)\n",
    "forward_button = widgets.Button(description='forward', layout=button_layout)\n",
    "backward_button = widgets.Button(description='backward', layout=button_layout)\n",
    "left_button = widgets.Button(description='left', layout=button_layout)\n",
    "right_button = widgets.Button(description='right', layout=button_layout)\n",
    "\n",
    "#Snapshot setup\n",
    "snap = widgets.Button(description='Take Picture', button_style='success', layout=button_layout)\n",
    "# Camera setup\n",
    "camera = Camera.instance(width=256, height=256)\n",
    "image = widgets.Image(format='jpeg', width=256, height=256)  # this width and height doesn't necessarily have to match the camera\n",
    "camera_link = traitlets.dlink((camera, 'value'), (image, 'value'), transform=bgr8_to_jpeg)\n",
    "\n",
    "\n",
    "middle_box = widgets.HBox([left_button, stop_button, right_button], layout=widgets.Layout(align_self='center'))\n",
    "\n",
    "controls_box = widgets.VBox([forward_button, middle_box, backward_button])\n",
    "\n",
    "snapshot = widgets.HBox([snap], layout=widgets.Layout(align_self='flex-end'))\n",
    "controller = widgets.HBox([image, controls_box, snapshot])\n",
    "\n",
    "\n",
    "display(controller)\n",
    "\n",
    "# link buttons to actions\n",
    "stop_button.on_click(stop)\n",
    "forward_button.on_click(forward)\n",
    "backward_button.on_click(backward)\n",
    "left_button.on_click(left)\n",
    "right_button.on_click(right)\n",
    "\n",
    "snap.on_click(lambda x: save_image(\"000000000\"))\n"
   ]
  },
  {
   "cell_type": "code",
   "execution_count": null,
   "metadata": {},
   "outputs": [],
   "source": []
  }
 ],
 "metadata": {
  "kernelspec": {
   "display_name": "Python 3",
   "language": "python",
   "name": "python3"
  },
  "language_info": {
   "codemirror_mode": {
    "name": "ipython",
    "version": 3
   },
   "file_extension": ".py",
   "mimetype": "text/x-python",
   "name": "python",
   "nbconvert_exporter": "python",
   "pygments_lexer": "ipython3",
   "version": "3.6.9"
  }
 },
 "nbformat": 4,
 "nbformat_minor": 4
}
